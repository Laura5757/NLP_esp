{
  "cells": [
    {
      "cell_type": "code",
      "execution_count": null,
      "metadata": {
        "colab": {
          "base_uri": "https://localhost:8080/"
        },
        "collapsed": true,
        "id": "2V6ftwuQOWWh",
        "outputId": "dea0813c-f4cb-4375-b9f6-175ff9d20030"
      },
      "outputs": [],
      "source": [
        "!pip install fuzzywuzzy\n",
        "!pip install python-Levenshtein\n",
        "!pip install gensim\n",
        "!python -m spacy download es_core_news_sm #No borrar!!! Si no no jala :("
      ]
    },
    {
      "cell_type": "code",
      "execution_count": 4,
      "metadata": {
        "id": "03MyYsXqt8io"
      },
      "outputs": [],
      "source": [
        "#Paqueting\n",
        "import pandas as pd\n",
        "import re\n",
        "import spacy\n",
        "import nltk\n",
        "import csv\n",
        "import gensim\n",
        "import numpy as np\n",
        "from collections import Counter\n",
        "from fuzzywuzzy import fuzz"
      ]
    },
    {
      "cell_type": "code",
      "execution_count": null,
      "metadata": {
        "colab": {
          "base_uri": "https://localhost:8080/"
        },
        "collapsed": true,
        "id": "oeo7NQwlvQLX",
        "outputId": "8a82f8dd-58b2-4b39-b916-597671ff345b"
      },
      "outputs": [
        {
          "name": "stderr",
          "output_type": "stream",
          "text": [
            "[nltk_data] Downloading package wordnet to /root/nltk_data...\n",
            "[nltk_data] Downloading package omw to /root/nltk_data...\n",
            "[nltk_data] Downloading package stopwords to /root/nltk_data...\n",
            "[nltk_data]   Unzipping corpora/stopwords.zip.\n"
          ]
        }
      ],
      "source": [
        "#Cosas en español\n",
        "nltk.download('wordnet')\n",
        "nltk.download('omw')\n",
        "nlp = spacy.load(\"es_core_news_sm\")\n",
        "#Conectores discursivos\n",
        "def cargar_conectores(path):\n",
        "    con_disc = set()\n",
        "    with open(path, newline='', encoding='utf-8') as file:\n",
        "        csv_reader = csv.reader(file)\n",
        "        for row in csv_reader:\n",
        "            con_disc.update(row)\n",
        "    return con_disc\n",
        "\n",
        "con_disc = cargar_conectores(\"path/conectores_discursivos.csv\")\n",
        "#Más cosas en español\n",
        "nltk.download('stopwords')\n",
        "stopword_es = nltk.corpus.stopwords.words('spanish')"
      ]
    },
    {
      "cell_type": "code",
      "execution_count": null,
      "metadata": {
        "id": "VHCkSJDOt-fq"
      },
      "outputs": [],
      "source": [
        "path = 'file.xlsx'\n",
        "dfo = pd.read_excel(path)"
      ]
    },
    {
      "cell_type": "code",
      "execution_count": 157,
      "metadata": {
        "id": "ES1zj0TnRxbM"
      },
      "outputs": [],
      "source": [
        "df = dfo.copy() #!!!Para crear y reiniciar los datos"
      ]
    },
    {
      "cell_type": "code",
      "execution_count": null,
      "metadata": {
        "id": "EUcDkHgJu1ry"
      },
      "outputs": [],
      "source": [
        "#Quitar los indicadores con \"Otro_Criterio\"\n",
        "otro_c = df[df['TIPO_RELATIVO'] == 'Otro_Criterio']\n",
        "df = df[df['TIPO_RELATIVO'] != 'Otro_Criterio']"
      ]
    },
    {
      "cell_type": "markdown",
      "metadata": {
        "id": "dIgLzIaSazlS"
      },
      "source": [
        "#Para criterio1, criterio2, criterio3"
      ]
    },
    {
      "cell_type": "code",
      "execution_count": null,
      "metadata": {
        "id": "sKWu6di4sL2i"
      },
      "outputs": [],
      "source": [
        "#Función para limpiar texto\n",
        "def limpiar(texto):\n",
        "    if pd.isna(texto):\n",
        "        return \"\"\n",
        "    texto = texto.lower()\n",
        "    texto = re.sub(r\"(100)\\b\\d+\", \"\", texto)\n",
        "    texto = re.sub(r\"(-1)\\b\\d+\", \"\", texto)\n",
        "    texto = re.sub(r\"[^\\w\\s/*-]\", \"\", texto)\n",
        "    texto = re.sub(r\"\\s+\", \" \", texto).strip()\n",
        "    doc = nlp(texto)\n",
        "    tokens = [\n",
        "        token.text for token in doc\n",
        "        if not token.is_stop\n",
        "        and token.lemma_ not in con_disc\n",
        "        and token.text not in stopword_es\n",
        "    ]\n",
        "    return \" \".join(tokens)\n"
      ]
    },
    {
      "cell_type": "code",
      "execution_count": null,
      "metadata": {
        "id": "W2xxHwN0Ppb8"
      },
      "outputs": [],
      "source": [
        "#Limpieza de texto ára criterio2 que incluye una fracción\n",
        "def limpiar_c2(texto):\n",
        "    texto = texto.lower()\n",
        "    texto = texto.strip()\n",
        "    matches = re.findall(r\"\\(([^()]*)\\)\", texto)\n",
        "    if matches:\n",
        "        for match in matches:\n",
        "            if '/' in match:\n",
        "                return match\n",
        "    return texto\n"
      ]
    },
    {
      "cell_type": "code",
      "execution_count": null,
      "metadata": {
        "id": "k1cHSxOeRYHv"
      },
      "outputs": [],
      "source": [
        "#Función para verificar si un texto es una fracción y además, si el numerador y el denominador son similares\n",
        "def cociente(text):\n",
        "    match = re.search(r\"(.+?)\\s*/\\s*(.+)\", text)\n",
        "    if match:\n",
        "        num = match.group(1).strip()\n",
        "        den = match.group(2).strip()\n",
        "        similarity_ratio = fuzz.ratio(num, den)\n",
        "        return similarity_ratio >= 60\n",
        "    return False"
      ]
    },
    {
      "cell_type": "code",
      "execution_count": null,
      "metadata": {
        "id": "RCUhhI3jPN81"
      },
      "outputs": [],
      "source": [
        "#Aquí se aplica la limpieza de texto para criterio1 y criterio2\n",
        "df['TEXTO_PROCESADO'] = df.apply(lambda row: limpiar(row['TEXTO_COMPARACION1']) if row['CRITERIO'] != 'criterio2' else row['TEXTO_COMPARACION1'], axis=1)"
      ]
    },
    {
      "cell_type": "code",
      "execution_count": null,
      "metadata": {
        "id": "Y8dYHMGlaP_f"
      },
      "outputs": [],
      "source": [
        "#Función para comparar el texto procesado previamente con el criterio establecido\n",
        "#Se buscan palabras particulares y patrones específicos para cada criterio y se indica no coincidencia si se encuentran palabras que no corresponden al criterio.\n",
        "def comparacion(texto_p, criterio):\n",
        "    if criterio == 'criterio1':\n",
        "        pattern = r\".*\\s*[xX\\*]?\\s*100\" #Patrón de ejemplo\n",
        "        if (re.search(pattern, texto_p) or re.search(r\".*\\/.*\\\\b(palabrac1|palabrac1|palabrac1|palabrac1|multiplicado por 100|x100|x 100|X100|X 100|\\*100|\\* 100)\\\\b\", texto_p)) and not re.search(r\".*\\/.*\\\\b(palabranoc1|palabranoc1|palabranoc1|palabranoc1|palabranoc1|palabranoc1)\\\\b\", texto_p):\n",
        "            return 'Sí'\n",
        "    elif criterio == 'criterio2':\n",
        "        pattern = r'\\s*1(?:\\s*[xX\\*]?\\s*100)?' #Patrón de ejemplo\n",
        "        if cociente(limpiar_c2(texto_p)) and (re.search(pattern, texto_p) or re.search(r\".*\\/.*\\\\b(palabrac2|palabrac2|palabrac2|palabrac2|palabrac2|palabrac2|palabrac2|palabrac2|palabrac2|palabrac2|año t -1|t-1|-1*100|-1 * 100|-1 x 100| -1 X 100|t - 1|t- 1|t -1|n-1|n - 1|n -1|n- 1|t1|t 1)\\\\b\",texto_p)):\n",
        "                return 'Sí'\n",
        "    elif criterio == 'criterio3':\n",
        "        pattern = r\".*\\s*/\\s*.*\" #Patrón de ejemplo\n",
        "        if not re.search(pattern, texto_p):\n",
        "                return 'Sí'\n",
        "    return 'No'"
      ]
    },
    {
      "cell_type": "code",
      "execution_count": null,
      "metadata": {
        "collapsed": true,
        "id": "XUMgcR7evlvi"
      },
      "outputs": [],
      "source": [
        "#Se crea una columna con la comparación aplicada de la celda anetrior\n",
        "df['COMPARACION'] = df.apply(lambda row: comparacion(row['TEXTO_PROCESADO'], row['CRITERIO']), axis=1)"
      ]
    },
    {
      "cell_type": "code",
      "execution_count": null,
      "metadata": {
        "collapsed": true,
        "id": "vB0KM34DUzRw"
      },
      "outputs": [],
      "source": [
        "#Esta función compara aquellas entrada que resultaron No en la comparación o tienen como criterio Otros y compara con los otros 3 criterios deifnidos y calcula su similitud, si la hay, la asigna, en caso contrario, devuelve No.\n",
        "def comparar_otros(row):\n",
        "    if row['COMPARACION'] == 'No':\n",
        "        texto_p = row['TEXTO_PROCESADO']\n",
        "        if (re.search( r\".*\\s*[xX\\*]?\\s*100\", texto_p) or re.search(r\".*\\/.*\\\\b(palabrac1|palabrac1|palabrac1|palabrac1|multiplicado por 100|x100|x 100|X100|X 100|\\*100|\\* 100)\\\\b\", texto_p))  and not (re.search(r\".*\\/.*\\b(solicitadas|recibidas|requeridas|demandadas|gestionadas|tramitadas)\\b\", texto_p) and re.search(r'-\\s*1.*?[xX\\*]?\\s*100', texto_p)):\n",
        "            return 'criterio1'\n",
        "        elif cociente(texto_p) and (re.search(r'\\s*1.*?[xX\\*]?\\s*100', texto_p) or re.search(r\".*\\/.*\\\\b(palabrac2|palabrac2|palabrac2|palabrac2|palabrac2|palabrac2|palabrac2|palabrac2|palabrac2|palabrac2|año t -1|t-1|-1*100|-1 * 100|-1 x 100| -1 X 100|t - 1|t- 1|t -1|n-1|n - 1|n -1|n- 1|t1|t 1)\\\\b\",texto_p)):\n",
        "            return 'criterio2'\n",
        "        elif not (re.search(r\".*\\s*/\\s*.*\" , texto_p) or (p in texto_p for p in ['cociente', '/', 'entre', 'dividido', 'respecto', 'dividiendo'])):\n",
        "            return 'criterio3'\n",
        "    return 'No'"
      ]
    },
    {
      "cell_type": "code",
      "execution_count": 141,
      "metadata": {
        "id": "V5Hj1unnDBOK"
      },
      "outputs": [],
      "source": [
        "df['OTRA_COINCIDENCIA'] = df.apply(lambda row: comparar_otros(row), axis=1)"
      ]
    },
    {
      "cell_type": "code",
      "execution_count": null,
      "metadata": {
        "id": "mzZZTsRBC_-D"
      },
      "outputs": [],
      "source": [
        "#Salida\n",
        "df.to_excel(\"path/Comparación.xlsx\")"
      ]
    },
    {
      "cell_type": "markdown",
      "metadata": {
        "id": "ieZiloCXaVCI"
      },
      "source": [
        "### Para Otros"
      ]
    },
    {
      "cell_type": "markdown",
      "metadata": {},
      "source": [
        "Aquí se aplica la función comparar las entradas con criterio Otro con los criterios con patrón definido."
      ]
    },
    {
      "cell_type": "code",
      "execution_count": null,
      "metadata": {
        "id": "WfO2gwFSafmH"
      },
      "outputs": [],
      "source": [
        "otro_c['TEXTO_PROCESADO'] = otro_c['TEXTO_COMPARACION1'].apply(limpiar)"
      ]
    },
    {
      "cell_type": "code",
      "execution_count": null,
      "metadata": {
        "id": "Mgf4VfpmWSwp"
      },
      "outputs": [],
      "source": [
        "otro_c['COMPARACION'] = otro_c.apply(lambda row: comparar_otros(row['TEXTO_PROCESADO'], row['CRITERIO']), axis=1)"
      ]
    },
    {
      "cell_type": "code",
      "execution_count": null,
      "metadata": {
        "id": "F9uuKBJ-atOF"
      },
      "outputs": [],
      "source": [
        "#Salida\n",
        "otro_c.to_excel(\"path/Otros_Comparación.xlsx\")"
      ]
    },
    {
      "cell_type": "code",
      "execution_count": null,
      "metadata": {},
      "outputs": [],
      "source": []
    }
  ],
  "metadata": {
    "colab": {
      "provenance": []
    },
    "kernelspec": {
      "display_name": "Python 3",
      "name": "python3"
    },
    "language_info": {
      "name": "python"
    }
  },
  "nbformat": 4,
  "nbformat_minor": 0
}
